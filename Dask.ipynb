{
 "cells": [
  {
   "cell_type": "markdown",
   "metadata": {},
   "source": [
    "## DASK"
   ]
  },
  {
   "cell_type": "code",
   "execution_count": 1,
   "metadata": {
    "collapsed": true
   },
   "outputs": [],
   "source": [
    "import dask \n",
    "\n",
    "import dask.dataframe as dd\n",
    "import dask.array as da\n",
    "import pandas as pd\n",
    "import numpy as np"
   ]
  },
  {
   "cell_type": "code",
   "execution_count": 2,
   "metadata": {
    "collapsed": true
   },
   "outputs": [],
   "source": [
    "from dask.multiprocessing import get\n",
    "from multiprocessing import cpu_count\n",
    "\n",
    "nCores = cpu_count()"
   ]
  },
  {
   "cell_type": "code",
   "execution_count": 3,
   "metadata": {},
   "outputs": [
    {
     "data": {
      "text/plain": [
       "4"
      ]
     },
     "execution_count": 3,
     "metadata": {},
     "output_type": "execute_result"
    }
   ],
   "source": [
    "nCores"
   ]
  },
  {
   "cell_type": "markdown",
   "metadata": {},
   "source": [
    "# Dask Arrays"
   ]
  },
  {
   "cell_type": "code",
   "execution_count": 4,
   "metadata": {},
   "outputs": [
    {
     "data": {
      "text/plain": [
       "array([ 0,  1,  2,  3,  4,  5,  6,  7,  8,  9, 10, 11, 12, 13, 14, 15, 16,\n",
       "       17, 18, 19, 20, 21, 22, 23, 24, 25, 26, 27, 28, 29, 30, 31, 32, 33,\n",
       "       34, 35, 36, 37, 38, 39, 40, 41, 42, 43, 44, 45, 46, 47, 48, 49, 50,\n",
       "       51, 52, 53, 54, 55, 56, 57, 58, 59, 60, 61, 62, 63, 64, 65, 66, 67,\n",
       "       68, 69, 70, 71, 72, 73, 74, 75, 76, 77, 78, 79, 80, 81, 82, 83, 84,\n",
       "       85, 86, 87, 88, 89, 90, 91, 92, 93, 94, 95, 96, 97, 98, 99])"
      ]
     },
     "execution_count": 4,
     "metadata": {},
     "output_type": "execute_result"
    }
   ],
   "source": [
    "##numpy arrays\n",
    "import numpy as np\n",
    "np.arange(100)"
   ]
  },
  {
   "cell_type": "code",
   "execution_count": 5,
   "metadata": {
    "scrolled": false
   },
   "outputs": [
    {
     "data": {
      "text/plain": [
       "array([ 0,  1,  2,  3,  4,  5,  6,  7,  8,  9, 10, 11, 12, 13, 14, 15, 16,\n",
       "       17, 18, 19, 20, 21, 22, 23, 24, 25, 26, 27, 28, 29, 30, 31, 32, 33,\n",
       "       34, 35, 36, 37, 38, 39, 40, 41, 42, 43, 44, 45, 46, 47, 48, 49, 50,\n",
       "       51, 52, 53, 54, 55, 56, 57, 58, 59, 60, 61, 62, 63, 64, 65, 66, 67,\n",
       "       68, 69, 70, 71, 72, 73, 74, 75, 76, 77, 78, 79, 80, 81, 82, 83, 84,\n",
       "       85, 86, 87, 88, 89, 90, 91, 92, 93, 94, 95, 96, 97, 98, 99])"
      ]
     },
     "execution_count": 5,
     "metadata": {},
     "output_type": "execute_result"
    }
   ],
   "source": [
    "##dask arrays\n",
    "import dask.array as da\n",
    "da.arange(100, chunks=5).compute()"
   ]
  },
  {
   "cell_type": "code",
   "execution_count": 6,
   "metadata": {
    "scrolled": true
   },
   "outputs": [
    {
     "data": {
      "image/svg+xml": [
       "<svg height=\"149pt\" viewBox=\"0.00 0.00 1729.89 148.89\" width=\"1730pt\" xmlns=\"http://www.w3.org/2000/svg\" xmlns:xlink=\"http://www.w3.org/1999/xlink\">\n",
       "<g class=\"graph\" id=\"graph0\" transform=\"scale(1 1) rotate(0) translate(4 144.894)\">\n",
       "<title>%3</title>\n",
       "<polygon fill=\"white\" points=\"-4,4 -4,-144.894 1725.89,-144.894 1725.89,4 -4,4\" stroke=\"none\"/>\n",
       "<!-- 5121332245744430200 -->\n",
       "<g class=\"node\" id=\"node1\"><title>5121332245744430200</title>\n",
       "<polygon fill=\"none\" points=\"61.4469,-140.894 7.44694,-140.894 7.44694,-104.894 61.4469,-104.894 61.4469,-140.894\" stroke=\"black\"/>\n",
       "<text font-family=\"Times,serif\" font-size=\"14.00\" text-anchor=\"middle\" x=\"34.4469\" y=\"-119.194\">0</text>\n",
       "</g>\n",
       "<!-- &#45;7372304466045777440 -->\n",
       "<g class=\"node\" id=\"node2\"><title>-7372304466045777440</title>\n",
       "<ellipse cx=\"34.4469\" cy=\"-34.4469\" fill=\"none\" rx=\"34.394\" ry=\"34.394\" stroke=\"black\"/>\n",
       "<text font-family=\"Times,serif\" font-size=\"14.00\" text-anchor=\"middle\" x=\"34.4469\" y=\"-30.7469\">arange</text>\n",
       "</g>\n",
       "<!-- &#45;7372304466045777440&#45;&gt;5121332245744430200 -->\n",
       "<g class=\"edge\" id=\"edge1\"><title>-7372304466045777440-&gt;5121332245744430200</title>\n",
       "<path d=\"M34.4469,-69.1171C34.4469,-77.5557 34.4469,-86.5057 34.4469,-94.5916\" fill=\"none\" stroke=\"black\"/>\n",
       "<polygon fill=\"black\" points=\"30.947,-94.6078 34.4469,-104.608 37.947,-94.6079 30.947,-94.6078\" stroke=\"black\"/>\n",
       "</g>\n",
       "<!-- 5121332245743347675 -->\n",
       "<g class=\"node\" id=\"node3\"><title>5121332245743347675</title>\n",
       "<polygon fill=\"none\" points=\"148.447,-140.894 94.4469,-140.894 94.4469,-104.894 148.447,-104.894 148.447,-140.894\" stroke=\"black\"/>\n",
       "<text font-family=\"Times,serif\" font-size=\"14.00\" text-anchor=\"middle\" x=\"121.447\" y=\"-119.194\">1</text>\n",
       "</g>\n",
       "<!-- &#45;6386728382483130565 -->\n",
       "<g class=\"node\" id=\"node4\"><title>-6386728382483130565</title>\n",
       "<ellipse cx=\"121.447\" cy=\"-34.4469\" fill=\"none\" rx=\"34.394\" ry=\"34.394\" stroke=\"black\"/>\n",
       "<text font-family=\"Times,serif\" font-size=\"14.00\" text-anchor=\"middle\" x=\"121.447\" y=\"-30.7469\">arange</text>\n",
       "</g>\n",
       "<!-- &#45;6386728382483130565&#45;&gt;5121332245743347675 -->\n",
       "<g class=\"edge\" id=\"edge2\"><title>-6386728382483130565-&gt;5121332245743347675</title>\n",
       "<path d=\"M121.447,-69.1171C121.447,-77.5557 121.447,-86.5057 121.447,-94.5916\" fill=\"none\" stroke=\"black\"/>\n",
       "<polygon fill=\"black\" points=\"117.947,-94.6078 121.447,-104.608 124.947,-94.6079 117.947,-94.6078\" stroke=\"black\"/>\n",
       "</g>\n",
       "<!-- 5121332245746595250 -->\n",
       "<g class=\"node\" id=\"node5\"><title>5121332245746595250</title>\n",
       "<polygon fill=\"none\" points=\"235.447,-140.894 181.447,-140.894 181.447,-104.894 235.447,-104.894 235.447,-140.894\" stroke=\"black\"/>\n",
       "<text font-family=\"Times,serif\" font-size=\"14.00\" text-anchor=\"middle\" x=\"208.447\" y=\"-119.194\">2</text>\n",
       "</g>\n",
       "<!-- &#45;4849872102559292490 -->\n",
       "<g class=\"node\" id=\"node6\"><title>-4849872102559292490</title>\n",
       "<ellipse cx=\"208.447\" cy=\"-34.4469\" fill=\"none\" rx=\"34.394\" ry=\"34.394\" stroke=\"black\"/>\n",
       "<text font-family=\"Times,serif\" font-size=\"14.00\" text-anchor=\"middle\" x=\"208.447\" y=\"-30.7469\">arange</text>\n",
       "</g>\n",
       "<!-- &#45;4849872102559292490&#45;&gt;5121332245746595250 -->\n",
       "<g class=\"edge\" id=\"edge3\"><title>-4849872102559292490-&gt;5121332245746595250</title>\n",
       "<path d=\"M208.447,-69.1171C208.447,-77.5557 208.447,-86.5057 208.447,-94.5916\" fill=\"none\" stroke=\"black\"/>\n",
       "<polygon fill=\"black\" points=\"204.947,-94.6078 208.447,-104.608 211.947,-94.6079 204.947,-94.6078\" stroke=\"black\"/>\n",
       "</g>\n",
       "<!-- 5121332245745512725 -->\n",
       "<g class=\"node\" id=\"node7\"><title>5121332245745512725</title>\n",
       "<polygon fill=\"none\" points=\"322.447,-140.894 268.447,-140.894 268.447,-104.894 322.447,-104.894 322.447,-140.894\" stroke=\"black\"/>\n",
       "<text font-family=\"Times,serif\" font-size=\"14.00\" text-anchor=\"middle\" x=\"295.447\" y=\"-119.194\">3</text>\n",
       "</g>\n",
       "<!-- &#45;3864897840577846415 -->\n",
       "<g class=\"node\" id=\"node8\"><title>-3864897840577846415</title>\n",
       "<ellipse cx=\"295.447\" cy=\"-34.4469\" fill=\"none\" rx=\"34.394\" ry=\"34.394\" stroke=\"black\"/>\n",
       "<text font-family=\"Times,serif\" font-size=\"14.00\" text-anchor=\"middle\" x=\"295.447\" y=\"-30.7469\">arange</text>\n",
       "</g>\n",
       "<!-- &#45;3864897840577846415&#45;&gt;5121332245745512725 -->\n",
       "<g class=\"edge\" id=\"edge4\"><title>-3864897840577846415-&gt;5121332245745512725</title>\n",
       "<path d=\"M295.447,-69.1171C295.447,-77.5557 295.447,-86.5057 295.447,-94.5916\" fill=\"none\" stroke=\"black\"/>\n",
       "<polygon fill=\"black\" points=\"291.947,-94.6078 295.447,-104.608 298.947,-94.6079 291.947,-94.6078\" stroke=\"black\"/>\n",
       "</g>\n",
       "<!-- 5121332245748760300 -->\n",
       "<g class=\"node\" id=\"node9\"><title>5121332245748760300</title>\n",
       "<polygon fill=\"none\" points=\"409.447,-140.894 355.447,-140.894 355.447,-104.894 409.447,-104.894 409.447,-140.894\" stroke=\"black\"/>\n",
       "<text font-family=\"Times,serif\" font-size=\"14.00\" text-anchor=\"middle\" x=\"382.447\" y=\"-119.194\">4</text>\n",
       "</g>\n",
       "<!-- &#45;3404356149695338724 -->\n",
       "<g class=\"node\" id=\"node10\"><title>-3404356149695338724</title>\n",
       "<ellipse cx=\"382.447\" cy=\"-34.4469\" fill=\"none\" rx=\"34.394\" ry=\"34.394\" stroke=\"black\"/>\n",
       "<text font-family=\"Times,serif\" font-size=\"14.00\" text-anchor=\"middle\" x=\"382.447\" y=\"-30.7469\">arange</text>\n",
       "</g>\n",
       "<!-- &#45;3404356149695338724&#45;&gt;5121332245748760300 -->\n",
       "<g class=\"edge\" id=\"edge5\"><title>-3404356149695338724-&gt;5121332245748760300</title>\n",
       "<path d=\"M382.447,-69.1171C382.447,-77.5557 382.447,-86.5057 382.447,-94.5916\" fill=\"none\" stroke=\"black\"/>\n",
       "<polygon fill=\"black\" points=\"378.947,-94.6078 382.447,-104.608 385.947,-94.6079 378.947,-94.6078\" stroke=\"black\"/>\n",
       "</g>\n",
       "<!-- 5121332245747677775 -->\n",
       "<g class=\"node\" id=\"node11\"><title>5121332245747677775</title>\n",
       "<polygon fill=\"none\" points=\"496.447,-140.894 442.447,-140.894 442.447,-104.894 496.447,-104.894 496.447,-140.894\" stroke=\"black\"/>\n",
       "<text font-family=\"Times,serif\" font-size=\"14.00\" text-anchor=\"middle\" x=\"469.447\" y=\"-119.194\">5</text>\n",
       "</g>\n",
       "<!-- &#45;2410046880495870249 -->\n",
       "<g class=\"node\" id=\"node12\"><title>-2410046880495870249</title>\n",
       "<ellipse cx=\"469.447\" cy=\"-34.4469\" fill=\"none\" rx=\"34.394\" ry=\"34.394\" stroke=\"black\"/>\n",
       "<text font-family=\"Times,serif\" font-size=\"14.00\" text-anchor=\"middle\" x=\"469.447\" y=\"-30.7469\">arange</text>\n",
       "</g>\n",
       "<!-- &#45;2410046880495870249&#45;&gt;5121332245747677775 -->\n",
       "<g class=\"edge\" id=\"edge6\"><title>-2410046880495870249-&gt;5121332245747677775</title>\n",
       "<path d=\"M469.447,-69.1171C469.447,-77.5557 469.447,-86.5057 469.447,-94.5916\" fill=\"none\" stroke=\"black\"/>\n",
       "<polygon fill=\"black\" points=\"465.947,-94.6078 469.447,-104.608 472.947,-94.6079 465.947,-94.6078\" stroke=\"black\"/>\n",
       "</g>\n",
       "<!-- 5121332245750925350 -->\n",
       "<g class=\"node\" id=\"node13\"><title>5121332245750925350</title>\n",
       "<polygon fill=\"none\" points=\"583.447,-140.894 529.447,-140.894 529.447,-104.894 583.447,-104.894 583.447,-140.894\" stroke=\"black\"/>\n",
       "<text font-family=\"Times,serif\" font-size=\"14.00\" text-anchor=\"middle\" x=\"556.447\" y=\"-119.194\">6</text>\n",
       "</g>\n",
       "<!-- &#45;5664097531670500990 -->\n",
       "<g class=\"node\" id=\"node14\"><title>-5664097531670500990</title>\n",
       "<ellipse cx=\"556.447\" cy=\"-34.4469\" fill=\"none\" rx=\"34.394\" ry=\"34.394\" stroke=\"black\"/>\n",
       "<text font-family=\"Times,serif\" font-size=\"14.00\" text-anchor=\"middle\" x=\"556.447\" y=\"-30.7469\">arange</text>\n",
       "</g>\n",
       "<!-- &#45;5664097531670500990&#45;&gt;5121332245750925350 -->\n",
       "<g class=\"edge\" id=\"edge7\"><title>-5664097531670500990-&gt;5121332245750925350</title>\n",
       "<path d=\"M556.447,-69.1171C556.447,-77.5557 556.447,-86.5057 556.447,-94.5916\" fill=\"none\" stroke=\"black\"/>\n",
       "<polygon fill=\"black\" points=\"552.947,-94.6078 556.447,-104.608 559.947,-94.6079 552.947,-94.6078\" stroke=\"black\"/>\n",
       "</g>\n",
       "<!-- 5121332245749842825 -->\n",
       "<g class=\"node\" id=\"node15\"><title>5121332245749842825</title>\n",
       "<polygon fill=\"none\" points=\"670.447,-140.894 616.447,-140.894 616.447,-104.894 670.447,-104.894 670.447,-140.894\" stroke=\"black\"/>\n",
       "<text font-family=\"Times,serif\" font-size=\"14.00\" text-anchor=\"middle\" x=\"643.447\" y=\"-119.194\">7</text>\n",
       "</g>\n",
       "<!-- &#45;217075291505214899 -->\n",
       "<g class=\"node\" id=\"node16\"><title>-217075291505214899</title>\n",
       "<ellipse cx=\"643.447\" cy=\"-34.4469\" fill=\"none\" rx=\"34.394\" ry=\"34.394\" stroke=\"black\"/>\n",
       "<text font-family=\"Times,serif\" font-size=\"14.00\" text-anchor=\"middle\" x=\"643.447\" y=\"-30.7469\">arange</text>\n",
       "</g>\n",
       "<!-- &#45;217075291505214899&#45;&gt;5121332245749842825 -->\n",
       "<g class=\"edge\" id=\"edge8\"><title>-217075291505214899-&gt;5121332245749842825</title>\n",
       "<path d=\"M643.447,-69.1171C643.447,-77.5557 643.447,-86.5057 643.447,-94.5916\" fill=\"none\" stroke=\"black\"/>\n",
       "<polygon fill=\"black\" points=\"639.947,-94.6078 643.447,-104.608 646.947,-94.6079 639.947,-94.6078\" stroke=\"black\"/>\n",
       "</g>\n",
       "<!-- 5121332245753090400 -->\n",
       "<g class=\"node\" id=\"node17\"><title>5121332245753090400</title>\n",
       "<polygon fill=\"none\" points=\"757.447,-140.894 703.447,-140.894 703.447,-104.894 757.447,-104.894 757.447,-140.894\" stroke=\"black\"/>\n",
       "<text font-family=\"Times,serif\" font-size=\"14.00\" text-anchor=\"middle\" x=\"730.447\" y=\"-119.194\">8</text>\n",
       "</g>\n",
       "<!-- 5296365351575957176 -->\n",
       "<g class=\"node\" id=\"node18\"><title>5296365351575957176</title>\n",
       "<ellipse cx=\"730.447\" cy=\"-34.4469\" fill=\"none\" rx=\"34.394\" ry=\"34.394\" stroke=\"black\"/>\n",
       "<text font-family=\"Times,serif\" font-size=\"14.00\" text-anchor=\"middle\" x=\"730.447\" y=\"-30.7469\">arange</text>\n",
       "</g>\n",
       "<!-- 5296365351575957176&#45;&gt;5121332245753090400 -->\n",
       "<g class=\"edge\" id=\"edge9\"><title>5296365351575957176-&gt;5121332245753090400</title>\n",
       "<path d=\"M730.447,-69.1171C730.447,-77.5557 730.447,-86.5057 730.447,-94.5916\" fill=\"none\" stroke=\"black\"/>\n",
       "<polygon fill=\"black\" points=\"726.947,-94.6078 730.447,-104.608 733.947,-94.6079 726.947,-94.6078\" stroke=\"black\"/>\n",
       "</g>\n",
       "<!-- 5121332245752007875 -->\n",
       "<g class=\"node\" id=\"node19\"><title>5121332245752007875</title>\n",
       "<polygon fill=\"none\" points=\"844.447,-140.894 790.447,-140.894 790.447,-104.894 844.447,-104.894 844.447,-140.894\" stroke=\"black\"/>\n",
       "<text font-family=\"Times,serif\" font-size=\"14.00\" text-anchor=\"middle\" x=\"817.447\" y=\"-119.194\">9</text>\n",
       "</g>\n",
       "<!-- 1830363517809968051 -->\n",
       "<g class=\"node\" id=\"node20\"><title>1830363517809968051</title>\n",
       "<ellipse cx=\"817.447\" cy=\"-34.4469\" fill=\"none\" rx=\"34.394\" ry=\"34.394\" stroke=\"black\"/>\n",
       "<text font-family=\"Times,serif\" font-size=\"14.00\" text-anchor=\"middle\" x=\"817.447\" y=\"-30.7469\">arange</text>\n",
       "</g>\n",
       "<!-- 1830363517809968051&#45;&gt;5121332245752007875 -->\n",
       "<g class=\"edge\" id=\"edge10\"><title>1830363517809968051-&gt;5121332245752007875</title>\n",
       "<path d=\"M817.447,-69.1171C817.447,-77.5557 817.447,-86.5057 817.447,-94.5916\" fill=\"none\" stroke=\"black\"/>\n",
       "<polygon fill=\"black\" points=\"813.947,-94.6078 817.447,-104.608 820.947,-94.6079 813.947,-94.6078\" stroke=\"black\"/>\n",
       "</g>\n",
       "<!-- 5121332245755255450 -->\n",
       "<g class=\"node\" id=\"node21\"><title>5121332245755255450</title>\n",
       "<polygon fill=\"none\" points=\"931.447,-140.894 877.447,-140.894 877.447,-104.894 931.447,-104.894 931.447,-140.894\" stroke=\"black\"/>\n",
       "<text font-family=\"Times,serif\" font-size=\"14.00\" text-anchor=\"middle\" x=\"904.447\" y=\"-119.194\">10</text>\n",
       "</g>\n",
       "<!-- &#45;1435075331573478674 -->\n",
       "<g class=\"node\" id=\"node22\"><title>-1435075331573478674</title>\n",
       "<ellipse cx=\"904.447\" cy=\"-34.4469\" fill=\"none\" rx=\"34.394\" ry=\"34.394\" stroke=\"black\"/>\n",
       "<text font-family=\"Times,serif\" font-size=\"14.00\" text-anchor=\"middle\" x=\"904.447\" y=\"-30.7469\">arange</text>\n",
       "</g>\n",
       "<!-- &#45;1435075331573478674&#45;&gt;5121332245755255450 -->\n",
       "<g class=\"edge\" id=\"edge11\"><title>-1435075331573478674-&gt;5121332245755255450</title>\n",
       "<path d=\"M904.447,-69.1171C904.447,-77.5557 904.447,-86.5057 904.447,-94.5916\" fill=\"none\" stroke=\"black\"/>\n",
       "<polygon fill=\"black\" points=\"900.947,-94.6078 904.447,-104.608 907.947,-94.6079 900.947,-94.6078\" stroke=\"black\"/>\n",
       "</g>\n",
       "<!-- 5121332245754172925 -->\n",
       "<g class=\"node\" id=\"node23\"><title>5121332245754172925</title>\n",
       "<polygon fill=\"none\" points=\"1018.45,-140.894 964.447,-140.894 964.447,-104.894 1018.45,-104.894 1018.45,-140.894\" stroke=\"black\"/>\n",
       "<text font-family=\"Times,serif\" font-size=\"14.00\" text-anchor=\"middle\" x=\"991.447\" y=\"-119.194\">11</text>\n",
       "</g>\n",
       "<!-- 4311809243328848201 -->\n",
       "<g class=\"node\" id=\"node24\"><title>4311809243328848201</title>\n",
       "<ellipse cx=\"991.447\" cy=\"-34.4469\" fill=\"none\" rx=\"34.394\" ry=\"34.394\" stroke=\"black\"/>\n",
       "<text font-family=\"Times,serif\" font-size=\"14.00\" text-anchor=\"middle\" x=\"991.447\" y=\"-30.7469\">arange</text>\n",
       "</g>\n",
       "<!-- 4311809243328848201&#45;&gt;5121332245754172925 -->\n",
       "<g class=\"edge\" id=\"edge12\"><title>4311809243328848201-&gt;5121332245754172925</title>\n",
       "<path d=\"M991.447,-69.1171C991.447,-77.5557 991.447,-86.5057 991.447,-94.5916\" fill=\"none\" stroke=\"black\"/>\n",
       "<polygon fill=\"black\" points=\"987.947,-94.6078 991.447,-104.608 994.947,-94.6079 987.947,-94.6078\" stroke=\"black\"/>\n",
       "</g>\n",
       "<!-- 5121332245757420500 -->\n",
       "<g class=\"node\" id=\"node25\"><title>5121332245757420500</title>\n",
       "<polygon fill=\"none\" points=\"1105.45,-140.894 1051.45,-140.894 1051.45,-104.894 1105.45,-104.894 1105.45,-140.894\" stroke=\"black\"/>\n",
       "<text font-family=\"Times,serif\" font-size=\"14.00\" text-anchor=\"middle\" x=\"1078.45\" y=\"-119.194\">12</text>\n",
       "</g>\n",
       "<!-- &#45;7709256018470499756 -->\n",
       "<g class=\"node\" id=\"node26\"><title>-7709256018470499756</title>\n",
       "<ellipse cx=\"1078.45\" cy=\"-34.4469\" fill=\"none\" rx=\"34.394\" ry=\"34.394\" stroke=\"black\"/>\n",
       "<text font-family=\"Times,serif\" font-size=\"14.00\" text-anchor=\"middle\" x=\"1078.45\" y=\"-30.7469\">arange</text>\n",
       "</g>\n",
       "<!-- &#45;7709256018470499756&#45;&gt;5121332245757420500 -->\n",
       "<g class=\"edge\" id=\"edge13\"><title>-7709256018470499756-&gt;5121332245757420500</title>\n",
       "<path d=\"M1078.45,-69.1171C1078.45,-77.5557 1078.45,-86.5057 1078.45,-94.5916\" fill=\"none\" stroke=\"black\"/>\n",
       "<polygon fill=\"black\" points=\"1074.95,-94.6078 1078.45,-104.608 1081.95,-94.6079 1074.95,-94.6078\" stroke=\"black\"/>\n",
       "</g>\n",
       "<!-- 5121332245756337975 -->\n",
       "<g class=\"node\" id=\"node27\"><title>5121332245756337975</title>\n",
       "<polygon fill=\"none\" points=\"1192.45,-140.894 1138.45,-140.894 1138.45,-104.894 1192.45,-104.894 1192.45,-140.894\" stroke=\"black\"/>\n",
       "<text font-family=\"Times,serif\" font-size=\"14.00\" text-anchor=\"middle\" x=\"1165.45\" y=\"-119.194\">13</text>\n",
       "</g>\n",
       "<!-- 6952394258087842735 -->\n",
       "<g class=\"node\" id=\"node28\"><title>6952394258087842735</title>\n",
       "<ellipse cx=\"1165.45\" cy=\"-34.4469\" fill=\"none\" rx=\"34.394\" ry=\"34.394\" stroke=\"black\"/>\n",
       "<text font-family=\"Times,serif\" font-size=\"14.00\" text-anchor=\"middle\" x=\"1165.45\" y=\"-30.7469\">arange</text>\n",
       "</g>\n",
       "<!-- 6952394258087842735&#45;&gt;5121332245756337975 -->\n",
       "<g class=\"edge\" id=\"edge14\"><title>6952394258087842735-&gt;5121332245756337975</title>\n",
       "<path d=\"M1165.45,-69.1171C1165.45,-77.5557 1165.45,-86.5057 1165.45,-94.5916\" fill=\"none\" stroke=\"black\"/>\n",
       "<polygon fill=\"black\" points=\"1161.95,-94.6078 1165.45,-104.608 1168.95,-94.6079 1161.95,-94.6078\" stroke=\"black\"/>\n",
       "</g>\n",
       "<!-- 5121332245759585550 -->\n",
       "<g class=\"node\" id=\"node29\"><title>5121332245759585550</title>\n",
       "<polygon fill=\"none\" points=\"1279.45,-140.894 1225.45,-140.894 1225.45,-104.894 1279.45,-104.894 1279.45,-140.894\" stroke=\"black\"/>\n",
       "<text font-family=\"Times,serif\" font-size=\"14.00\" text-anchor=\"middle\" x=\"1252.45\" y=\"-119.194\">14</text>\n",
       "</g>\n",
       "<!-- &#45;2491373265064187206 -->\n",
       "<g class=\"node\" id=\"node30\"><title>-2491373265064187206</title>\n",
       "<ellipse cx=\"1252.45\" cy=\"-34.4469\" fill=\"none\" rx=\"34.394\" ry=\"34.394\" stroke=\"black\"/>\n",
       "<text font-family=\"Times,serif\" font-size=\"14.00\" text-anchor=\"middle\" x=\"1252.45\" y=\"-30.7469\">arange</text>\n",
       "</g>\n",
       "<!-- &#45;2491373265064187206&#45;&gt;5121332245759585550 -->\n",
       "<g class=\"edge\" id=\"edge15\"><title>-2491373265064187206-&gt;5121332245759585550</title>\n",
       "<path d=\"M1252.45,-69.1171C1252.45,-77.5557 1252.45,-86.5057 1252.45,-94.5916\" fill=\"none\" stroke=\"black\"/>\n",
       "<polygon fill=\"black\" points=\"1248.95,-94.6078 1252.45,-104.608 1255.95,-94.6079 1248.95,-94.6078\" stroke=\"black\"/>\n",
       "</g>\n",
       "<!-- 5121332245758503025 -->\n",
       "<g class=\"node\" id=\"node31\"><title>5121332245758503025</title>\n",
       "<polygon fill=\"none\" points=\"1366.45,-140.894 1312.45,-140.894 1312.45,-104.894 1366.45,-104.894 1366.45,-140.894\" stroke=\"black\"/>\n",
       "<text font-family=\"Times,serif\" font-size=\"14.00\" text-anchor=\"middle\" x=\"1339.45\" y=\"-119.194\">15</text>\n",
       "</g>\n",
       "<!-- 2509656692440689701 -->\n",
       "<g class=\"node\" id=\"node32\"><title>2509656692440689701</title>\n",
       "<ellipse cx=\"1339.45\" cy=\"-34.4469\" fill=\"none\" rx=\"34.394\" ry=\"34.394\" stroke=\"black\"/>\n",
       "<text font-family=\"Times,serif\" font-size=\"14.00\" text-anchor=\"middle\" x=\"1339.45\" y=\"-30.7469\">arange</text>\n",
       "</g>\n",
       "<!-- 2509656692440689701&#45;&gt;5121332245758503025 -->\n",
       "<g class=\"edge\" id=\"edge16\"><title>2509656692440689701-&gt;5121332245758503025</title>\n",
       "<path d=\"M1339.45,-69.1171C1339.45,-77.5557 1339.45,-86.5057 1339.45,-94.5916\" fill=\"none\" stroke=\"black\"/>\n",
       "<polygon fill=\"black\" points=\"1335.95,-94.6078 1339.45,-104.608 1342.95,-94.6079 1335.95,-94.6078\" stroke=\"black\"/>\n",
       "</g>\n",
       "<!-- 5121332245761750600 -->\n",
       "<g class=\"node\" id=\"node33\"><title>5121332245761750600</title>\n",
       "<polygon fill=\"none\" points=\"1453.45,-140.894 1399.45,-140.894 1399.45,-104.894 1453.45,-104.894 1453.45,-140.894\" stroke=\"black\"/>\n",
       "<text font-family=\"Times,serif\" font-size=\"14.00\" text-anchor=\"middle\" x=\"1426.45\" y=\"-119.194\">16</text>\n",
       "</g>\n",
       "<!-- &#45;4731330014024373456 -->\n",
       "<g class=\"node\" id=\"node34\"><title>-4731330014024373456</title>\n",
       "<ellipse cx=\"1426.45\" cy=\"-34.4469\" fill=\"none\" rx=\"34.394\" ry=\"34.394\" stroke=\"black\"/>\n",
       "<text font-family=\"Times,serif\" font-size=\"14.00\" text-anchor=\"middle\" x=\"1426.45\" y=\"-30.7469\">arange</text>\n",
       "</g>\n",
       "<!-- &#45;4731330014024373456&#45;&gt;5121332245761750600 -->\n",
       "<g class=\"edge\" id=\"edge17\"><title>-4731330014024373456-&gt;5121332245761750600</title>\n",
       "<path d=\"M1426.45,-69.1171C1426.45,-77.5557 1426.45,-86.5057 1426.45,-94.5916\" fill=\"none\" stroke=\"black\"/>\n",
       "<polygon fill=\"black\" points=\"1422.95,-94.6078 1426.45,-104.608 1429.95,-94.6079 1422.95,-94.6078\" stroke=\"black\"/>\n",
       "</g>\n",
       "<!-- 5121332245760668075 -->\n",
       "<g class=\"node\" id=\"node35\"><title>5121332245760668075</title>\n",
       "<polygon fill=\"none\" points=\"1540.45,-140.894 1486.45,-140.894 1486.45,-104.894 1540.45,-104.894 1540.45,-140.894\" stroke=\"black\"/>\n",
       "<text font-family=\"Times,serif\" font-size=\"14.00\" text-anchor=\"middle\" x=\"1513.45\" y=\"-119.194\">17</text>\n",
       "</g>\n",
       "<!-- &#45;3778339227973393781 -->\n",
       "<g class=\"node\" id=\"node36\"><title>-3778339227973393781</title>\n",
       "<ellipse cx=\"1513.45\" cy=\"-34.4469\" fill=\"none\" rx=\"34.394\" ry=\"34.394\" stroke=\"black\"/>\n",
       "<text font-family=\"Times,serif\" font-size=\"14.00\" text-anchor=\"middle\" x=\"1513.45\" y=\"-30.7469\">arange</text>\n",
       "</g>\n",
       "<!-- &#45;3778339227973393781&#45;&gt;5121332245760668075 -->\n",
       "<g class=\"edge\" id=\"edge18\"><title>-3778339227973393781-&gt;5121332245760668075</title>\n",
       "<path d=\"M1513.45,-69.1171C1513.45,-77.5557 1513.45,-86.5057 1513.45,-94.5916\" fill=\"none\" stroke=\"black\"/>\n",
       "<polygon fill=\"black\" points=\"1509.95,-94.6078 1513.45,-104.608 1516.95,-94.6079 1509.95,-94.6078\" stroke=\"black\"/>\n",
       "</g>\n",
       "<!-- 5121332245763915650 -->\n",
       "<g class=\"node\" id=\"node37\"><title>5121332245763915650</title>\n",
       "<polygon fill=\"none\" points=\"1627.45,-140.894 1573.45,-140.894 1573.45,-104.894 1627.45,-104.894 1627.45,-140.894\" stroke=\"black\"/>\n",
       "<text font-family=\"Times,serif\" font-size=\"14.00\" text-anchor=\"middle\" x=\"1600.45\" y=\"-119.194\">18</text>\n",
       "</g>\n",
       "<!-- 1477174025099245510 -->\n",
       "<g class=\"node\" id=\"node38\"><title>1477174025099245510</title>\n",
       "<ellipse cx=\"1600.45\" cy=\"-34.4469\" fill=\"none\" rx=\"34.394\" ry=\"34.394\" stroke=\"black\"/>\n",
       "<text font-family=\"Times,serif\" font-size=\"14.00\" text-anchor=\"middle\" x=\"1600.45\" y=\"-30.7469\">arange</text>\n",
       "</g>\n",
       "<!-- 1477174025099245510&#45;&gt;5121332245763915650 -->\n",
       "<g class=\"edge\" id=\"edge19\"><title>1477174025099245510-&gt;5121332245763915650</title>\n",
       "<path d=\"M1600.45,-69.1171C1600.45,-77.5557 1600.45,-86.5057 1600.45,-94.5916\" fill=\"none\" stroke=\"black\"/>\n",
       "<polygon fill=\"black\" points=\"1596.95,-94.6078 1600.45,-104.608 1603.95,-94.6079 1596.95,-94.6078\" stroke=\"black\"/>\n",
       "</g>\n",
       "<!-- 5121332245762833125 -->\n",
       "<g class=\"node\" id=\"node39\"><title>5121332245762833125</title>\n",
       "<polygon fill=\"none\" points=\"1714.45,-140.894 1660.45,-140.894 1660.45,-104.894 1714.45,-104.894 1714.45,-140.894\" stroke=\"black\"/>\n",
       "<text font-family=\"Times,serif\" font-size=\"14.00\" text-anchor=\"middle\" x=\"1687.45\" y=\"-119.194\">19</text>\n",
       "</g>\n",
       "<!-- 7969677858024910785 -->\n",
       "<g class=\"node\" id=\"node40\"><title>7969677858024910785</title>\n",
       "<ellipse cx=\"1687.45\" cy=\"-34.4469\" fill=\"none\" rx=\"34.394\" ry=\"34.394\" stroke=\"black\"/>\n",
       "<text font-family=\"Times,serif\" font-size=\"14.00\" text-anchor=\"middle\" x=\"1687.45\" y=\"-30.7469\">arange</text>\n",
       "</g>\n",
       "<!-- 7969677858024910785&#45;&gt;5121332245762833125 -->\n",
       "<g class=\"edge\" id=\"edge20\"><title>7969677858024910785-&gt;5121332245762833125</title>\n",
       "<path d=\"M1687.45,-69.1171C1687.45,-77.5557 1687.45,-86.5057 1687.45,-94.5916\" fill=\"none\" stroke=\"black\"/>\n",
       "<polygon fill=\"black\" points=\"1683.95,-94.6078 1687.45,-104.608 1690.95,-94.6079 1683.95,-94.6078\" stroke=\"black\"/>\n",
       "</g>\n",
       "</g>\n",
       "</svg>"
      ],
      "text/plain": [
       "<IPython.core.display.SVG object>"
      ]
     },
     "execution_count": 6,
     "metadata": {},
     "output_type": "execute_result"
    }
   ],
   "source": [
    "x = da.arange(100, chunks=(5,))\n",
    "x.visualize('dask.svg')"
   ]
  },
  {
   "cell_type": "code",
   "execution_count": 7,
   "metadata": {},
   "outputs": [
    {
     "data": {
      "image/svg+xml": [
       "<svg height=\"149pt\" viewBox=\"0.00 0.00 163.89 148.89\" width=\"164pt\" xmlns=\"http://www.w3.org/2000/svg\" xmlns:xlink=\"http://www.w3.org/1999/xlink\">\n",
       "<g class=\"graph\" id=\"graph0\" transform=\"scale(1 1) rotate(0) translate(4 144.894)\">\n",
       "<title>%3</title>\n",
       "<polygon fill=\"white\" points=\"-4,4 -4,-144.894 159.894,-144.894 159.894,4 -4,4\" stroke=\"none\"/>\n",
       "<!-- 2067728529363252613 -->\n",
       "<g class=\"node\" id=\"node1\"><title>2067728529363252613</title>\n",
       "<polygon fill=\"none\" points=\"61.4469,-140.894 7.44694,-140.894 7.44694,-104.894 61.4469,-104.894 61.4469,-140.894\" stroke=\"black\"/>\n",
       "<text font-family=\"Times,serif\" font-size=\"14.00\" text-anchor=\"middle\" x=\"34.4469\" y=\"-119.194\">0</text>\n",
       "</g>\n",
       "<!-- 2397536897516986913 -->\n",
       "<g class=\"node\" id=\"node2\"><title>2397536897516986913</title>\n",
       "<ellipse cx=\"34.4469\" cy=\"-34.4469\" fill=\"none\" rx=\"34.394\" ry=\"34.394\" stroke=\"black\"/>\n",
       "<text font-family=\"Times,serif\" font-size=\"14.00\" text-anchor=\"middle\" x=\"34.4469\" y=\"-30.7469\">arange</text>\n",
       "</g>\n",
       "<!-- 2397536897516986913&#45;&gt;2067728529363252613 -->\n",
       "<g class=\"edge\" id=\"edge1\"><title>2397536897516986913-&gt;2067728529363252613</title>\n",
       "<path d=\"M34.4469,-69.1171C34.4469,-77.5557 34.4469,-86.5057 34.4469,-94.5916\" fill=\"none\" stroke=\"black\"/>\n",
       "<polygon fill=\"black\" points=\"30.947,-94.6078 34.4469,-104.608 37.947,-94.6079 30.947,-94.6078\" stroke=\"black\"/>\n",
       "</g>\n",
       "<!-- 2067728529364335138 -->\n",
       "<g class=\"node\" id=\"node3\"><title>2067728529364335138</title>\n",
       "<polygon fill=\"none\" points=\"148.447,-140.894 94.4469,-140.894 94.4469,-104.894 148.447,-104.894 148.447,-140.894\" stroke=\"black\"/>\n",
       "<text font-family=\"Times,serif\" font-size=\"14.00\" text-anchor=\"middle\" x=\"121.447\" y=\"-119.194\">1</text>\n",
       "</g>\n",
       "<!-- &#45;3349070878306259162 -->\n",
       "<g class=\"node\" id=\"node4\"><title>-3349070878306259162</title>\n",
       "<ellipse cx=\"121.447\" cy=\"-34.4469\" fill=\"none\" rx=\"34.394\" ry=\"34.394\" stroke=\"black\"/>\n",
       "<text font-family=\"Times,serif\" font-size=\"14.00\" text-anchor=\"middle\" x=\"121.447\" y=\"-30.7469\">arange</text>\n",
       "</g>\n",
       "<!-- &#45;3349070878306259162&#45;&gt;2067728529364335138 -->\n",
       "<g class=\"edge\" id=\"edge2\"><title>-3349070878306259162-&gt;2067728529364335138</title>\n",
       "<path d=\"M121.447,-69.1171C121.447,-77.5557 121.447,-86.5057 121.447,-94.5916\" fill=\"none\" stroke=\"black\"/>\n",
       "<polygon fill=\"black\" points=\"117.947,-94.6078 121.447,-104.608 124.947,-94.6079 117.947,-94.6078\" stroke=\"black\"/>\n",
       "</g>\n",
       "</g>\n",
       "</svg>"
      ],
      "text/plain": [
       "<IPython.core.display.SVG object>"
      ]
     },
     "execution_count": 7,
     "metadata": {},
     "output_type": "execute_result"
    }
   ],
   "source": [
    "x = da.arange(10, chunks=(5,))\n",
    "x.visualize('dask.svg')"
   ]
  },
  {
   "cell_type": "code",
   "execution_count": 8,
   "metadata": {},
   "outputs": [
    {
     "data": {
      "text/plain": [
       "((5, 5),)"
      ]
     },
     "execution_count": 8,
     "metadata": {},
     "output_type": "execute_result"
    }
   ],
   "source": [
    "x.chunks"
   ]
  },
  {
   "cell_type": "markdown",
   "metadata": {},
   "source": [
    "### Convert NumPy array to Dask array"
   ]
  },
  {
   "cell_type": "code",
   "execution_count": 9,
   "metadata": {},
   "outputs": [
    {
     "data": {
      "text/plain": [
       "(numpy.ndarray, dask.array.core.Array)"
      ]
     },
     "execution_count": 9,
     "metadata": {},
     "output_type": "execute_result"
    }
   ],
   "source": [
    "#numpy array\n",
    "x = np.arange(1000)\n",
    "\n",
    "#dask array\n",
    "y = da.from_array(x, chunks=(100))\n",
    "\n",
    "type(x), type(y)"
   ]
  },
  {
   "cell_type": "code",
   "execution_count": 10,
   "metadata": {},
   "outputs": [
    {
     "data": {
      "text/plain": [
       "499.5"
      ]
     },
     "execution_count": 10,
     "metadata": {},
     "output_type": "execute_result"
    }
   ],
   "source": [
    "y.mean().compute()"
   ]
  },
  {
   "cell_type": "code",
   "execution_count": 11,
   "metadata": {},
   "outputs": [
    {
     "data": {
      "text/plain": [
       "dask.array<arange, shape=(10,), dtype=int64, chunksize=(5,)>"
      ]
     },
     "execution_count": 11,
     "metadata": {},
     "output_type": "execute_result"
    }
   ],
   "source": [
    "x=da.arange(10, chunks=(5))\n",
    "x"
   ]
  },
  {
   "cell_type": "code",
   "execution_count": 12,
   "metadata": {},
   "outputs": [
    {
     "data": {
      "text/plain": [
       "array([0, 1, 2, 3, 4, 5, 6, 7, 8, 9])"
      ]
     },
     "execution_count": 12,
     "metadata": {},
     "output_type": "execute_result"
    }
   ],
   "source": [
    "x.compute()"
   ]
  },
  {
   "cell_type": "code",
   "execution_count": 13,
   "metadata": {},
   "outputs": [
    {
     "data": {
      "text/plain": [
       "array([ 0,  1,  2,  3,  4,  5,  6,  7,  8,  9, 10])"
      ]
     },
     "execution_count": 13,
     "metadata": {},
     "output_type": "execute_result"
    }
   ],
   "source": [
    "x=da.arange(11, chunks=(5))\n",
    "x.compute()"
   ]
  },
  {
   "cell_type": "code",
   "execution_count": 14,
   "metadata": {
    "scrolled": true
   },
   "outputs": [
    {
     "data": {
      "text/plain": [
       "((5, 5, 1),)"
      ]
     },
     "execution_count": 14,
     "metadata": {},
     "output_type": "execute_result"
    }
   ],
   "source": [
    "x.chunks"
   ]
  },
  {
   "cell_type": "markdown",
   "metadata": {},
   "source": [
    "### Similar API"
   ]
  },
  {
   "cell_type": "code",
   "execution_count": 17,
   "metadata": {},
   "outputs": [
    {
     "data": {
      "text/plain": [
       "55"
      ]
     },
     "execution_count": 17,
     "metadata": {},
     "output_type": "execute_result"
    }
   ],
   "source": [
    "x=da.arange(11, chunks=(5)) #0 to 10\n",
    "x.sum().compute()"
   ]
  },
  {
   "cell_type": "code",
   "execution_count": 18,
   "metadata": {},
   "outputs": [
    {
     "data": {
      "text/plain": [
       "5.0"
      ]
     },
     "execution_count": 18,
     "metadata": {},
     "output_type": "execute_result"
    }
   ],
   "source": [
    "x=da.arange(11, chunks=(5))\n",
    "x.mean().compute()       #55/11"
   ]
  },
  {
   "cell_type": "markdown",
   "metadata": {},
   "source": [
    "# Dask Dataframe"
   ]
  },
  {
   "cell_type": "code",
   "execution_count": null,
   "metadata": {
    "collapsed": true
   },
   "outputs": [],
   "source": [
    "import dask.dataframe as dd"
   ]
  },
  {
   "cell_type": "code",
   "execution_count": 19,
   "metadata": {
    "scrolled": false
   },
   "outputs": [
    {
     "name": "stdout",
     "output_type": "stream",
     "text": [
      "CPU times: user 579 ms, sys: 97.2 ms, total: 676 ms\n",
      "Wall time: 1.16 s\n"
     ]
    }
   ],
   "source": [
    "#for the sake of comparision\n",
    "import pandas as pd\n",
    "%time df1=pd.read_csv(\"BF_train.csv\")"
   ]
  },
  {
   "cell_type": "code",
   "execution_count": 20,
   "metadata": {
    "scrolled": true
   },
   "outputs": [
    {
     "name": "stdout",
     "output_type": "stream",
     "text": [
      "CPU times: user 77.6 ms, sys: 0 ns, total: 77.6 ms\n",
      "Wall time: 57.9 ms\n"
     ]
    }
   ],
   "source": [
    "import dask.dataframe as dd\n",
    "%time df = dd.read_csv('BF_train.csv')"
   ]
  },
  {
   "cell_type": "markdown",
   "metadata": {},
   "source": [
    "## Similar API"
   ]
  },
  {
   "cell_type": "code",
   "execution_count": 21,
   "metadata": {},
   "outputs": [
    {
     "data": {
      "text/plain": [
       "User_ID                         int64\n",
       "Product_ID                     object\n",
       "Gender                         object\n",
       "Age                            object\n",
       "Occupation                      int64\n",
       "City_Category                  object\n",
       "Stay_In_Current_City_Years     object\n",
       "Marital_Status                  int64\n",
       "Product_Category_1              int64\n",
       "Product_Category_2            float64\n",
       "Product_Category_3            float64\n",
       "Purchase                        int64\n",
       "dtype: object"
      ]
     },
     "execution_count": 21,
     "metadata": {},
     "output_type": "execute_result"
    }
   ],
   "source": [
    "df.dtypes"
   ]
  },
  {
   "cell_type": "code",
   "execution_count": 22,
   "metadata": {},
   "outputs": [
    {
     "data": {
      "text/html": [
       "<div>\n",
       "<style scoped>\n",
       "    .dataframe tbody tr th:only-of-type {\n",
       "        vertical-align: middle;\n",
       "    }\n",
       "\n",
       "    .dataframe tbody tr th {\n",
       "        vertical-align: top;\n",
       "    }\n",
       "\n",
       "    .dataframe thead th {\n",
       "        text-align: right;\n",
       "    }\n",
       "</style>\n",
       "<table border=\"1\" class=\"dataframe\">\n",
       "  <thead>\n",
       "    <tr style=\"text-align: right;\">\n",
       "      <th></th>\n",
       "      <th>User_ID</th>\n",
       "      <th>Product_ID</th>\n",
       "      <th>Gender</th>\n",
       "      <th>Age</th>\n",
       "      <th>Occupation</th>\n",
       "      <th>City_Category</th>\n",
       "      <th>Stay_In_Current_City_Years</th>\n",
       "      <th>Marital_Status</th>\n",
       "      <th>Product_Category_1</th>\n",
       "      <th>Product_Category_2</th>\n",
       "      <th>Product_Category_3</th>\n",
       "      <th>Purchase</th>\n",
       "    </tr>\n",
       "  </thead>\n",
       "  <tbody>\n",
       "    <tr>\n",
       "      <th>0</th>\n",
       "      <td>1000001</td>\n",
       "      <td>P00069042</td>\n",
       "      <td>F</td>\n",
       "      <td>0-17</td>\n",
       "      <td>10</td>\n",
       "      <td>A</td>\n",
       "      <td>2</td>\n",
       "      <td>0</td>\n",
       "      <td>3</td>\n",
       "      <td>NaN</td>\n",
       "      <td>NaN</td>\n",
       "      <td>8370</td>\n",
       "    </tr>\n",
       "    <tr>\n",
       "      <th>1</th>\n",
       "      <td>1000001</td>\n",
       "      <td>P00248942</td>\n",
       "      <td>F</td>\n",
       "      <td>0-17</td>\n",
       "      <td>10</td>\n",
       "      <td>A</td>\n",
       "      <td>2</td>\n",
       "      <td>0</td>\n",
       "      <td>1</td>\n",
       "      <td>6.0</td>\n",
       "      <td>14.0</td>\n",
       "      <td>15200</td>\n",
       "    </tr>\n",
       "    <tr>\n",
       "      <th>2</th>\n",
       "      <td>1000001</td>\n",
       "      <td>P00087842</td>\n",
       "      <td>F</td>\n",
       "      <td>0-17</td>\n",
       "      <td>10</td>\n",
       "      <td>A</td>\n",
       "      <td>2</td>\n",
       "      <td>0</td>\n",
       "      <td>12</td>\n",
       "      <td>NaN</td>\n",
       "      <td>NaN</td>\n",
       "      <td>1422</td>\n",
       "    </tr>\n",
       "    <tr>\n",
       "      <th>3</th>\n",
       "      <td>1000001</td>\n",
       "      <td>P00085442</td>\n",
       "      <td>F</td>\n",
       "      <td>0-17</td>\n",
       "      <td>10</td>\n",
       "      <td>A</td>\n",
       "      <td>2</td>\n",
       "      <td>0</td>\n",
       "      <td>12</td>\n",
       "      <td>14.0</td>\n",
       "      <td>NaN</td>\n",
       "      <td>1057</td>\n",
       "    </tr>\n",
       "    <tr>\n",
       "      <th>4</th>\n",
       "      <td>1000002</td>\n",
       "      <td>P00285442</td>\n",
       "      <td>M</td>\n",
       "      <td>55+</td>\n",
       "      <td>16</td>\n",
       "      <td>C</td>\n",
       "      <td>4+</td>\n",
       "      <td>0</td>\n",
       "      <td>8</td>\n",
       "      <td>NaN</td>\n",
       "      <td>NaN</td>\n",
       "      <td>7969</td>\n",
       "    </tr>\n",
       "  </tbody>\n",
       "</table>\n",
       "</div>"
      ],
      "text/plain": [
       "   User_ID Product_ID Gender   Age  Occupation City_Category  \\\n",
       "0  1000001  P00069042      F  0-17          10             A   \n",
       "1  1000001  P00248942      F  0-17          10             A   \n",
       "2  1000001  P00087842      F  0-17          10             A   \n",
       "3  1000001  P00085442      F  0-17          10             A   \n",
       "4  1000002  P00285442      M   55+          16             C   \n",
       "\n",
       "  Stay_In_Current_City_Years  Marital_Status  Product_Category_1  \\\n",
       "0                          2               0                   3   \n",
       "1                          2               0                   1   \n",
       "2                          2               0                  12   \n",
       "3                          2               0                  12   \n",
       "4                         4+               0                   8   \n",
       "\n",
       "   Product_Category_2  Product_Category_3  Purchase  \n",
       "0                 NaN                 NaN      8370  \n",
       "1                 6.0                14.0     15200  \n",
       "2                 NaN                 NaN      1422  \n",
       "3                14.0                 NaN      1057  \n",
       "4                 NaN                 NaN      7969  "
      ]
     },
     "execution_count": 22,
     "metadata": {},
     "output_type": "execute_result"
    }
   ],
   "source": [
    "df.head()"
   ]
  },
  {
   "cell_type": "code",
   "execution_count": 23,
   "metadata": {},
   "outputs": [
    {
     "data": {
      "text/plain": [
       "User_ID                            0\n",
       "Product_ID                         0\n",
       "Gender                             0\n",
       "Age                                0\n",
       "Occupation                         0\n",
       "City_Category                      0\n",
       "Stay_In_Current_City_Years         0\n",
       "Marital_Status                     0\n",
       "Product_Category_1                 0\n",
       "Product_Category_2            173638\n",
       "Product_Category_3            383247\n",
       "Purchase                           0\n",
       "dtype: int64"
      ]
     },
     "execution_count": 23,
     "metadata": {},
     "output_type": "execute_result"
    }
   ],
   "source": [
    "df.isnull().sum().compute()"
   ]
  },
  {
   "cell_type": "code",
   "execution_count": 24,
   "metadata": {
    "scrolled": true
   },
   "outputs": [
    {
     "data": {
      "text/plain": [
       "M    414259\n",
       "F    135809\n",
       "Name: Gender, dtype: int64"
      ]
     },
     "execution_count": 24,
     "metadata": {},
     "output_type": "execute_result"
    }
   ],
   "source": [
    "df.Gender.value_counts().compute()"
   ]
  }
 ],
 "metadata": {
  "kernelspec": {
   "display_name": "Python 3",
   "language": "python",
   "name": "python3"
  },
  "language_info": {
   "codemirror_mode": {
    "name": "ipython",
    "version": 3
   },
   "file_extension": ".py",
   "mimetype": "text/x-python",
   "name": "python",
   "nbconvert_exporter": "python",
   "pygments_lexer": "ipython3",
   "version": "3.7.1"
  }
 },
 "nbformat": 4,
 "nbformat_minor": 2
}
